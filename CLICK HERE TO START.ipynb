{
 "cells": [
  {
   "cell_type": "markdown",
   "source": [
    "![image](https://user-images.githubusercontent.com/84793481/229163018-affaf2f4-b295-4646-8e79-187ab5cc20db.png)\n",
    "\n",
    "# Py Bake\n",
    "\n",
    "Welcome to Pybake!\n",
    "\n",
    "There are *2* tracks to tackle at this event:\n",
    "\n",
    "1. Capture-the-Flag\n",
    "2. Simulation\n",
    "\n",
    "The best 2 participants (as judged by us, regardless of track) will win the grand prize!\n",
    "\n",
    "Creativity and innovation when tackling harder tracks relative to your ability and succeeding in them will be looked upon favourably by the judges!\n",
    "\n",
    "This is an **open book** event, so feel free to use any material you can find online or in textbooks to help you.\n",
    "\n",
    "## Capture-the-Flag\n",
    "\n",
    "* Pick the category best suited to your ability\n",
    "    * Beginner/Intermediate/Advanced\n",
    "    * If it's too easy/hard talk to a demonstrator, and we can discuss changing it\n",
    "* Complete as many of the challenges you can in the time you have\n",
    "* If you finish them all have an Ansys demonstrator come over to check your answers\n",
    "* First to the end wins! (or whoever gets furthest in their chosen category)\n",
    "    * The winner gets first pick of the prize pool\n",
    "    * Second place gets second pick... and so on\n",
    "\n",
    "## Simulation\n",
    "\n",
    "* Try some Ansys software!\n",
    "* Build the cheapest bridge that does not break\n",
    "* See the `getting_started` notebook in the `Simulation` directory for more information\n",
    "\n",
    "## Prizes\n",
    "\n",
    "In addition to the grand prize for best participants there will be prizes for...\n",
    "\n",
    "* Each category in the Capture-the-Flag track\n",
    "* Best Simulation answer\n",
    "\n",
    "## Notes on AnsysLab\n",
    "\n",
    "This text block you are currently reading is contained within what is known as a cell in a [\"**jupyter notebook**\"](https://jupyter.org/). If you've never used a jupyter notebook before then I recommend checking out the jupyter documentation as well as this quickstart article on Ansys' developer portal: [\"JupyterLab Quick Start\"](https://developer.ansys.com/blog/jupyterlab-quick-start), although you can skip the installation steps."
   ],
   "metadata": {
    "collapsed": false
   }
  },
  {
   "cell_type": "code",
   "execution_count": null,
   "outputs": [],
   "source": [],
   "metadata": {
    "collapsed": false
   }
  }
 ],
 "metadata": {
  "kernelspec": {
   "display_name": "Python 3",
   "language": "python",
   "name": "python3"
  },
  "language_info": {
   "codemirror_mode": {
    "name": "ipython",
    "version": 2
   },
   "file_extension": ".py",
   "mimetype": "text/x-python",
   "name": "python",
   "nbconvert_exporter": "python",
   "pygments_lexer": "ipython2",
   "version": "2.7.6"
  }
 },
 "nbformat": 4,
 "nbformat_minor": 0
}
