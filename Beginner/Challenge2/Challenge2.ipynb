{
 "cells": [
  {
   "cell_type": "markdown",
   "id": "b1353d2f",
   "metadata": {},
   "source": [
    "## Challenge 2 - Don Quixote\n",
    "\n",
    "As employees in the digital age it is very common to receive text files in emails containing data. A lot of the time this will be in Excel, but sometimes it can also be in Word, or similar. But how do you deal with it? Well, opening files in Python is actually quite simple!\n",
    "\n",
    "Once opened they can be worked with in a variety of ways to extract all kinds of useful information.\n",
    "\n",
    "```Python\n",
    "with open('test_file.txt', encoding='utf8') as f:\n",
    "    data = f.read()\n",
    "```\n",
    "\n",
    "This reads in the contents of `test_file.txt` into a string variable called `data`.\n",
    "\n",
    "This test file is real, and is included in the same directory as these challenges. It contains the entire text of the book Don Quixote by Miguel de Cervantes. Your challenge is to write a script that calculates 3 values from this text.\n",
    "\n",
    "1. The number of periods/\"full-stops\" in the file (\"`.`\")\n",
    "2. The number of lines of text there are in the file\n",
    "3. The number of times windmills are mentioned\n",
    "\n",
    "### Tips 2\n",
    "\n",
    "To do this, you may need to use the string method `count`."
   ]
  },
  {
   "cell_type": "code",
   "execution_count": 8,
   "id": "7a14ef4e",
   "metadata": {},
   "outputs": [
    {
     "data": {
      "text/plain": [
       "4"
      ]
     },
     "execution_count": 8,
     "metadata": {},
     "output_type": "execute_result"
    }
   ],
   "source": [
    "'aaaab'.count('a')"
   ]
  },
  {
   "cell_type": "code",
   "execution_count": 9,
   "id": "9eb2788a",
   "metadata": {},
   "outputs": [
    {
     "data": {
      "text/plain": [
       "2"
      ]
     },
     "execution_count": 9,
     "metadata": {},
     "output_type": "execute_result"
    }
   ],
   "source": [
    "'aAaAb'.count('a')"
   ]
  },
  {
   "cell_type": "code",
   "execution_count": 10,
   "id": "d46d5b04",
   "metadata": {},
   "outputs": [
    {
     "data": {
      "text/plain": [
       "1"
      ]
     },
     "execution_count": 10,
     "metadata": {},
     "output_type": "execute_result"
    }
   ],
   "source": [
    "'aAaAb'.count('b')"
   ]
  },
  {
   "cell_type": "code",
   "execution_count": 11,
   "id": "56d70b06",
   "metadata": {},
   "outputs": [
    {
     "data": {
      "text/plain": [
       "2"
      ]
     },
     "execution_count": 11,
     "metadata": {},
     "output_type": "execute_result"
    }
   ],
   "source": [
    "'aAaAb'.count('A')"
   ]
  },
  {
   "cell_type": "markdown",
   "id": "5d7b7418",
   "metadata": {},
   "source": [
    "But you should remember that strings are _case-sensitive_ in Python, and strings come with the methods `lower` and `upper` as a way of dealing with that."
   ]
  },
  {
   "cell_type": "code",
   "execution_count": 12,
   "id": "b7c14760",
   "metadata": {},
   "outputs": [
    {
     "data": {
      "text/plain": [
       "'aaaab'"
      ]
     },
     "execution_count": 12,
     "metadata": {},
     "output_type": "execute_result"
    }
   ],
   "source": [
    "'aAaAb'.lower()"
   ]
  },
  {
   "cell_type": "code",
   "execution_count": 13,
   "id": "11b3af27",
   "metadata": {},
   "outputs": [
    {
     "data": {
      "text/plain": [
       "'AAAAB'"
      ]
     },
     "execution_count": 13,
     "metadata": {},
     "output_type": "execute_result"
    }
   ],
   "source": [
    "'aAaAb'.upper()"
   ]
  },
  {
   "cell_type": "markdown",
   "id": "2e287dd6",
   "metadata": {},
   "source": [
    "Compose your solution below."
   ]
  },
  {
   "cell_type": "code",
   "execution_count": 5,
   "id": "24fcdb73",
   "metadata": {},
   "outputs": [
    {
     "name": "stdout",
     "output_type": "stream",
     "text": [
      "43277\n"
     ]
    }
   ],
   "source": []
  },
  {
   "cell_type": "code",
   "execution_count": null,
   "id": "169e323c",
   "metadata": {},
   "outputs": [],
   "source": []
  }
 ],
 "metadata": {
  "kernelspec": {
   "display_name": "Python 3 (ipykernel)",
   "language": "python",
   "name": "python3"
  },
  "language_info": {
   "codemirror_mode": {
    "name": "ipython",
    "version": 3
   },
   "file_extension": ".py",
   "mimetype": "text/x-python",
   "name": "python",
   "nbconvert_exporter": "python",
   "pygments_lexer": "ipython3",
   "version": "3.10.6"
  }
 },
 "nbformat": 4,
 "nbformat_minor": 5
}
