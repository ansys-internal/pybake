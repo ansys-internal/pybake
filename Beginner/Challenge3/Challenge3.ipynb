{
 "cells": [
  {
   "cell_type": "markdown",
   "id": "c4b207d3",
   "metadata": {},
   "source": [
    "## Challenge 3 - Not again Bob\n",
    "\n",
    "We're getting into much more realistic territory with this next challenge. Recently you're having a look at the company budget and notice it looks like Bob's been paying an awful lot to this one vendor, some \"HADOOP\" and you're suspicious that he might going over his (already generous) budget of 300000 units of money per calendar year. So you decide to do some basic calculations to look at how much he's been spending.\n",
    "\n",
    "You have a year's worth of expenses to various companies (see the challenge 3 files) that look like this. This is February.\n",
    "\n",
    "```csv\n",
    "PAYEE,AMOUNT\n",
    "SWIRLIX,7812\n",
    "BISHARP,9\n",
    "LITWICK,2550\n",
    "SPHEAL,12211\n",
    "HELIOLISK,7000\n",
    "ELGYEM,1000\n",
    "CINCCINO,60\n",
    "HADOOP,8799\n",
    "HYDREIGON,77777\n",
    "GOREBYSS,876\n",
    "KOMMO-O,1\n",
    "DUOSION,54662\n",
    "WATCHOG,75687\n",
    "ARCHEOPS,10000\n",
    "BLACEPHALON,3\n",
    "GIBLE,899\n",
    "WOOLOO,90\n",
    "```\n",
    "\n",
    "Write a Python script that adds up the total expenses paid by Bob to his vendor over the previous calendar year and tells you the amount he was over, or under, budget.\n",
    "\n",
    "His budget for the calendar year was 300 000 units of money. How much over is he? If it was under, you were being too suspicious! Shame on you!\n",
    "\n",
    "What about the totals for swirlix and wooloo? Use the **total** amount for each as your 3 answers to decipher the password for the next challenge.\n",
    "\n",
    "### Tips 3\n",
    "\n",
    "* You may want to use the built-in library `csv` to parse these comma-separated variable (csv) files."
   ]
  },
  {
   "cell_type": "code",
   "execution_count": 3,
   "id": "f9bfcacd",
   "metadata": {},
   "outputs": [
    {
     "data": {
      "text/plain": [
       "[['PAYEE', 'AMOUNT'],\n",
       " ['KOMMO-O', '2550'],\n",
       " ['SPHEAL', '7000'],\n",
       " ['GIBLE', '876'],\n",
       " ['ARCHEOPS', '1000'],\n",
       " ['BLACEPHALON', '9'],\n",
       " ['HADOOP', '12211'],\n",
       " ['ELGYEM', '899'],\n",
       " ['DUOSION', '3'],\n",
       " ['LITWICK', '7812'],\n",
       " ['CINCCINO', '77777'],\n",
       " ['BISHARP', '8799'],\n",
       " ['SWIRLIX', '1'],\n",
       " ['HELIOLISK', '90'],\n",
       " ['HYDREIGON', '60'],\n",
       " ['GOREBYSS', '75687'],\n",
       " ['WOOLOO', '10000'],\n",
       " ['WATCHOG', '54662']]"
      ]
     },
     "execution_count": 3,
     "metadata": {},
     "output_type": "execute_result"
    }
   ],
   "source": [
    "import csv\n",
    "\n",
    "\n",
    "with open('./Challenge3Expenses/expenses_feb.csv') as f:\n",
    "    reader = csv.reader(f, delimiter=',')\n",
    "    data = [line for line in reader]\n",
    "    \n",
    "data"
   ]
  },
  {
   "cell_type": "markdown",
   "id": "7e0593ac",
   "metadata": {},
   "source": [
    "* Don't forget each file has a header that you don't need!\n",
    "* Data values in a csv file are parsed as _strings_ and must be converted to integers or floats manually, by you!"
   ]
  },
  {
   "cell_type": "code",
   "execution_count": 3,
   "id": "f3895c55",
   "metadata": {},
   "outputs": [
    {
     "name": "stdout",
     "output_type": "stream",
     "text": [
      "C:\\Users\\jderrick\\GitHub\\AnsysHackathon2023BeginnerTrack\\Challenge3\\Challenge3Expenses\\expenses_apr.csv\n",
      "C:\\Users\\jderrick\\GitHub\\AnsysHackathon2023BeginnerTrack\\Challenge3\\Challenge3Expenses\\expenses_aug.csv\n",
      "C:\\Users\\jderrick\\GitHub\\AnsysHackathon2023BeginnerTrack\\Challenge3\\Challenge3Expenses\\expenses_dec.csv\n",
      "C:\\Users\\jderrick\\GitHub\\AnsysHackathon2023BeginnerTrack\\Challenge3\\Challenge3Expenses\\expenses_feb.csv\n",
      "C:\\Users\\jderrick\\GitHub\\AnsysHackathon2023BeginnerTrack\\Challenge3\\Challenge3Expenses\\expenses_jan.csv\n",
      "C:\\Users\\jderrick\\GitHub\\AnsysHackathon2023BeginnerTrack\\Challenge3\\Challenge3Expenses\\expenses_jul.csv\n",
      "C:\\Users\\jderrick\\GitHub\\AnsysHackathon2023BeginnerTrack\\Challenge3\\Challenge3Expenses\\expenses_jun.csv\n",
      "C:\\Users\\jderrick\\GitHub\\AnsysHackathon2023BeginnerTrack\\Challenge3\\Challenge3Expenses\\expenses_mar.csv\n",
      "C:\\Users\\jderrick\\GitHub\\AnsysHackathon2023BeginnerTrack\\Challenge3\\Challenge3Expenses\\expenses_may.csv\n",
      "C:\\Users\\jderrick\\GitHub\\AnsysHackathon2023BeginnerTrack\\Challenge3\\Challenge3Expenses\\expenses_nov.csv\n",
      "C:\\Users\\jderrick\\GitHub\\AnsysHackathon2023BeginnerTrack\\Challenge3\\Challenge3Expenses\\expenses_oct.csv\n",
      "C:\\Users\\jderrick\\GitHub\\AnsysHackathon2023BeginnerTrack\\Challenge3\\Challenge3Expenses\\expenses_sep.csv\n"
     ]
    }
   ],
   "source": [
    "import csv\n",
    "from pathlib import Path\n",
    "\n",
    "\n",
    "hadoop = 0\n",
    "swirlix = 0\n",
    "wooloo = 0\n"
   ]
  },
  {
   "cell_type": "code",
   "execution_count": null,
   "id": "d198455a",
   "metadata": {},
   "outputs": [],
   "source": [
    "from ansys.challenges import decipher_password\n",
    "\n",
    "decipher_password(hadoop, swirlix, wooloo)\n"
   ]
  }
 ],
 "metadata": {
  "kernelspec": {
   "display_name": "Python 3 (ipykernel)",
   "language": "python",
   "name": "python3"
  },
  "language_info": {
   "codemirror_mode": {
    "name": "ipython",
    "version": 3
   },
   "file_extension": ".py",
   "mimetype": "text/x-python",
   "name": "python",
   "nbconvert_exporter": "python",
   "pygments_lexer": "ipython3",
   "version": "3.10.6"
  }
 },
 "nbformat": 4,
 "nbformat_minor": 5
}
