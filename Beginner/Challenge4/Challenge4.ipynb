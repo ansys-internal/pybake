{
 "cells": [
  {
   "cell_type": "markdown",
   "source": [
    "# Challenge 4 - Automation is a Wonderful Thing\n",
    "\n",
    "Your task this time is extremely simple: read all the numbers in the input file and sum the ones that are less than or equal to 50. You could go straight off and do it by hand if you wanted to. However, it is not that simple. There are a LOT of numbers to sort through. 1000 to be precise (per part). In addition, these numbers are in various files and types of file. You will also need to work out how to extract all the values you need as you go.\n",
    "\n",
    "But for now we'll start with the example, where I will be calculating how many numbers in `Example/numbers.txt` there are that are greater than 95.\n",
    "\n",
    "`numbers.txt` looks like this\n",
    "\n",
    "```\n",
    "33\n",
    "21\n",
    "30\n",
    "73\n",
    "0\n",
    "25\n",
    "12\n",
    "97\n",
    "40\n",
    "41\n",
    "...\n",
    "```\n",
    "\n",
    "except much longer. We already know how to open a file, so let's do that to start with.\n"
   ],
   "metadata": {
    "collapsed": false
   }
  },
  {
   "cell_type": "code",
   "execution_count": 1,
   "outputs": [
    {
     "name": "stdout",
     "output_type": "stream",
     "text": [
      "['33\\n', '21\\n', '30\\n', '73\\n', '0\\n', '25\\n', '12\\n', '97\\n', '40\\n', '41\\n']\n"
     ]
    }
   ],
   "source": [
    "with open('Example/numbers.txt') as f:\n",
    "    numbers = f.readlines()\n",
    "\n",
    "print(numbers[:10])\n"
   ],
   "metadata": {
    "collapsed": false
   }
  },
  {
   "cell_type": "markdown",
   "source": [
    "Unfortunately we're still seeing the newline character on each entry, so we should strip that out using the string method `strip`"
   ],
   "metadata": {
    "collapsed": false
   }
  },
  {
   "cell_type": "code",
   "execution_count": 2,
   "outputs": [
    {
     "name": "stdout",
     "output_type": "stream",
     "text": [
      "['33', '21', '30', '73', '0', '25', '12', '97', '40', '41']\n"
     ]
    }
   ],
   "source": [
    "new_numbers = []\n",
    "for num in numbers:\n",
    "    new_numbers.append(num.strip('\\n'))\n",
    "numbers = new_numbers\n",
    "print(numbers[:10])\n"
   ],
   "metadata": {
    "collapsed": false
   }
  },
  {
   "cell_type": "markdown",
   "source": [
    "Finally, our numbers are all still strings! So we should convert them to integers before we work on them."
   ],
   "metadata": {
    "collapsed": false
   }
  },
  {
   "cell_type": "code",
   "execution_count": 3,
   "outputs": [
    {
     "name": "stdout",
     "output_type": "stream",
     "text": [
      "[33, 21, 30, 73, 0, 25, 12, 97, 40, 41]\n"
     ]
    }
   ],
   "source": [
    "new_numbers2 = []\n",
    "for num in numbers:\n",
    "    new_numbers2.append(int(num))\n",
    "numbers = new_numbers2\n",
    "print(numbers[:10])\n"
   ],
   "metadata": {
    "collapsed": false
   }
  },
  {
   "cell_type": "markdown",
   "source": [
    "Now it is simple to go through and gather the numbers we need."
   ],
   "metadata": {
    "collapsed": false
   }
  },
  {
   "cell_type": "code",
   "execution_count": 6,
   "outputs": [
    {
     "name": "stdout",
     "output_type": "stream",
     "text": [
      "47\n"
     ]
    }
   ],
   "source": [
    "numbers_greater_than_95 = []\n",
    "for num in numbers:\n",
    "    if num > 95:\n",
    "        numbers_greater_than_95.append(num)\n",
    "\n",
    "print(len(numbers_greater_than_95))\n"
   ],
   "metadata": {
    "collapsed": false
   }
  },
  {
   "cell_type": "markdown",
   "source": [
    "This challenge has 3 simple parts.\n",
    "\n",
    "## Part 1\n",
    "\n",
    "Find the sum of all the even numbers in the files in the `Part1` directory.\n",
    "\n",
    "## Part 2\n",
    "\n",
    "Find the sum of all the odd numbers in the file in the `Part2` directory.\n",
    "\n",
    "## Part 3\n",
    "\n",
    "Find the difference between the sum of all the even numbers and the sum of all the odd numbers in `Part3/numbers.json`\n",
    "\n",
    "## Hints & Tips\n",
    "\n",
    "- For Part 1 and Part 2 you may wish to use the [modulo operator](https://realpython.com/python-modulo-operator/)\n",
    "- For Part 3 you will need to parse [JSON](https://en.wikipedia.org/wiki/JSON), a common text-based file format. To do this we recommend you make use of the built-in package, [json](https://docs.python.org/3/library/json.html).\n",
    "  - [Useful JSON resource.](https://realpython.com/python-json/)\n"
   ],
   "metadata": {
    "collapsed": false
   }
  },
  {
   "cell_type": "code",
   "execution_count": null,
   "outputs": [],
   "source": [],
   "metadata": {
    "collapsed": false
   }
  }
 ],
 "metadata": {
  "kernelspec": {
   "display_name": "Python 3",
   "language": "python",
   "name": "python3"
  },
  "language_info": {
   "codemirror_mode": {
    "name": "ipython",
    "version": 2
   },
   "file_extension": ".py",
   "mimetype": "text/x-python",
   "name": "python",
   "nbconvert_exporter": "python",
   "pygments_lexer": "ipython2",
   "version": "2.7.6"
  }
 },
 "nbformat": 4,
 "nbformat_minor": 0
}
