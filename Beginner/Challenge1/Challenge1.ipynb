{
 "cells": [
  {
   "cell_type": "markdown",
   "id": "68d5c6ec",
   "metadata": {},
   "source": []
  },
  {
   "cell_type": "markdown",
   "source": [
    "# Challenge 1 - Hello World\n",
    "\n",
    "Write a short program that, when run, asks for the user's name and then gives them a random personal affirmation! This personal affirmation should be one of 6 strings\n",
    "\n",
    "### Tips 1\n",
    "\n",
    "To take the input of someone when they run a program, you should use the `input` keyword function."
   ],
   "metadata": {
    "collapsed": false
   }
  },
  {
   "cell_type": "code",
   "execution_count": 1,
   "id": "19244f18",
   "metadata": {},
   "outputs": [
    {
     "name": "stdout",
     "output_type": "stream",
     "text": [
      "Write something here! ->Well Hello there!\n"
     ]
    }
   ],
   "source": [
    "words = input('Write something here! ->')"
   ]
  },
  {
   "cell_type": "code",
   "execution_count": 2,
   "id": "6fdd96a9",
   "metadata": {},
   "outputs": [
    {
     "data": {
      "text/plain": [
       "'Well Hello there!'"
      ]
     },
     "execution_count": 2,
     "metadata": {},
     "output_type": "execute_result"
    }
   ],
   "source": [
    "words"
   ]
  },
  {
   "cell_type": "markdown",
   "id": "30bf1e21",
   "metadata": {},
   "source": [
    "Here is a starting list containing two affirmations."
   ]
  },
  {
   "cell_type": "code",
   "execution_count": 6,
   "id": "346de031",
   "metadata": {},
   "outputs": [],
   "source": [
    "affirmations = [\"You're doing great!\", \"I know I can't carry it for you... But I can carry you!\"]"
   ]
  },
  {
   "cell_type": "markdown",
   "id": "8807d1af",
   "metadata": {},
   "source": [
    "You can select a random instance of a list using the built-in library `random`."
   ]
  },
  {
   "cell_type": "code",
   "execution_count": 3,
   "id": "9a5bb08c",
   "metadata": {},
   "outputs": [
    {
     "data": {
      "text/plain": [
       "'c'"
      ]
     },
     "execution_count": 3,
     "metadata": {},
     "output_type": "execute_result"
    }
   ],
   "source": [
    "import random\n",
    "\n",
    "my_list = ['a', 'b', 'c']\n",
    "\n",
    "choice = random.choice(my_list)\n",
    "choice"
   ]
  },
  {
   "cell_type": "markdown",
   "id": "00181f27",
   "metadata": {},
   "source": [
    "You can concatenate strings in Python with the `+` operator."
   ]
  },
  {
   "cell_type": "code",
   "execution_count": 4,
   "id": "93c11709",
   "metadata": {},
   "outputs": [
    {
     "data": {
      "text/plain": [
       "'ab'"
      ]
     },
     "execution_count": 4,
     "metadata": {},
     "output_type": "execute_result"
    }
   ],
   "source": [
    "'a' + 'b'"
   ]
  },
  {
   "cell_type": "markdown",
   "id": "e4379fc7",
   "metadata": {},
   "source": [
    "Finally, you can print objects to screen using the built-in `print` keyword function."
   ]
  },
  {
   "cell_type": "code",
   "execution_count": 5,
   "id": "1b5257bd",
   "metadata": {},
   "outputs": [
    {
     "name": "stdout",
     "output_type": "stream",
     "text": [
      "Hello World!\n"
     ]
    }
   ],
   "source": [
    "print('Hello World!')"
   ]
  },
  {
   "cell_type": "markdown",
   "id": "f5d63172",
   "metadata": {},
   "source": [
    "Compose your solution below."
   ]
  },
  {
   "cell_type": "code",
   "execution_count": null,
   "id": "401b193a",
   "metadata": {},
   "outputs": [],
   "source": []
  },
  {
   "cell_type": "markdown",
   "id": "3fdbd803",
   "metadata": {},
   "source": [
    "This challenge is just a warm up! You can have the next challenge for free! It is:\n",
    "\n",
    "```\n",
    "'Angelo ace-modeler'\n",
    "```\n",
    "\n",
    "> Note: you *shouldn't* include the quotation marks shown here in your submission! AKA these `'`.\n",
    ">\n",
    "> This will be true for all the challenges."
   ]
  },
  {
   "cell_type": "code",
   "execution_count": null,
   "id": "e6c571d5",
   "metadata": {},
   "outputs": [],
   "source": []
  }
 ],
 "metadata": {
  "kernelspec": {
   "display_name": "Python 3 (ipykernel)",
   "language": "python",
   "name": "python3"
  },
  "language_info": {
   "codemirror_mode": {
    "name": "ipython",
    "version": 3
   },
   "file_extension": ".py",
   "mimetype": "text/x-python",
   "name": "python",
   "nbconvert_exporter": "python",
   "pygments_lexer": "ipython3",
   "version": "3.10.6"
  }
 },
 "nbformat": 4,
 "nbformat_minor": 5
}
