{
 "cells": [
  {
   "cell_type": "markdown",
   "source": [
    "# Unconventional Parsing\n",
    "\n",
    "As programmers, it is common to encounter all sorts of unusual text file formats. There are the standard ones like csv, xml, JSON, and YAML for example, and then there are more obscure ones like ADM or XPS.\n",
    "\n",
    "This challenge is about parsing data.\n",
    "\n",
    "You have moved into a new role in HR and have some employee data on file, but it has a problem and can't be read by other software. You need to parse it, and answer some simple questions as well as identify the error, programmatically.\n",
    "\n",
    "## Part 1\n",
    "\n",
    "Identify the mistake in the file. Do it by eye if you have to! What's the error? (You can fix it any way you like! Just make sure it's now correct).\n"
   ],
   "metadata": {
    "collapsed": false
   }
  },
  {
   "cell_type": "code",
   "execution_count": null,
   "outputs": [],
   "source": [],
   "metadata": {
    "collapsed": false
   }
  },
  {
   "cell_type": "markdown",
   "source": [
    "## Part 2\n",
    "\n",
    "You've been asked to provide the employee details for Julia, Andrew, and Steve. When were they hired? Which regions are they in? And what are their emails?\n"
   ],
   "metadata": {
    "collapsed": false
   }
  },
  {
   "cell_type": "code",
   "execution_count": null,
   "outputs": [],
   "source": [],
   "metadata": {
    "collapsed": false
   }
  }
 ],
 "metadata": {
  "kernelspec": {
   "display_name": "Python 3",
   "language": "python",
   "name": "python3"
  },
  "language_info": {
   "codemirror_mode": {
    "name": "ipython",
    "version": 2
   },
   "file_extension": ".py",
   "mimetype": "text/x-python",
   "name": "python",
   "nbconvert_exporter": "python",
   "pygments_lexer": "ipython2",
   "version": "2.7.6"
  }
 },
 "nbformat": 4,
 "nbformat_minor": 0
}
