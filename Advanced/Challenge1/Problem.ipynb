{
 "cells": [
  {
   "cell_type": "markdown",
   "source": [
    "# Building Bridges\n",
    "\n",
    "You are an intrepid support engineer; your name is something salt-of-the-earth like Dave, Bud, or Dale; or Heather, Daisy, or Sarah; or Alex, Andy, or Charlie. Your company has sent you into the belly of a volcano because they have had some.. reports.. of an infestation of *elephants*, which you aren't sure you quite believe but aren't paid to think about. As you use the various tools at your disposal to get through the cavern you come across the following chamber.\n",
    "\n",
    "```\n",
    "· · · · · · · · · · · · · · · · o o o o ·\n",
    "· · · · · · · · · · · · · · · · · · o o ·\n",
    "1 · · · · · · · · · · · · · · · · · o o 2\n",
    "· · · o o · · · · · · · · · · · · o o · ·\n",
    "· o o o o o o · · · · · · · o o o o · · ·\n",
    "· o o o o o o · · · · · o o o o · · · · ·\n",
    "· o o o o o o · · · o o o o · · · · · · ·\n",
    "· · · o o · · · · · o o · · · · · · · · ·\n",
    "· · · · · · · · · · o o · · · · · · · · ·\n",
    "· · · · · · · · · o o o · · · · · · · · ·\n",
    "· · · · · · · · · o o o o o o o o · · · ·\n",
    "· · · · · · · · · · o o o o o o o · · · ·\n",
    "· · · · · · · · · · · o o o o · · · · · ·\n",
    "· · · o o o · · · · · · o o o · · · · · ·\n",
    "· · o o o o o · · · · · o o o · · · · · ·\n",
    "· · · o o o o · · · · · o o o · · · · · ·\n",
    "· · · o o o · · · · · · o o o · · · · · ·\n",
    "· · · · o · · · · · · · · o · · · · · · ·\n",
    "· · · · · · · · · · · · · · · · · · · · ·\n",
    "· · · · · · · · · · · · · · · · · · · · ·\n",
    "· · · · · · · · · · · · · · · · · · · · ·\n",
    "```\n",
    "\n",
    "You are viewing the chamber side-on and the `o`s are rocks in your way. You enter at point `1` and have to exit at point `2`. The `·` are nodes of your bridge-building grid. You have a special machine to build your bridges for you. It is a powerful machine that can build the entire bridge in one go, but you do have to tell it what you want it to do before it will do anything. It is also a bit limited in what it can do. It can only build beams between nodes that are at most one unit apart on this grid and those beams can only be at right-angles to each other.\n",
    "\n",
    "You want to get across this cavern as fast as possible as you can hear the sound of trumpeting from further in... maybe there really ARE elephants in here after all!?\n",
    "\n",
    "In order to get across the chamber ASAP you need to find the shortest path between `1` and `2` that avoids the `rocks`. Your path can not cross any of the rocks in the chamber and the edges of the chamber are an abyss you can not build in.\n",
    "\n",
    "What is the smallest number of beams needed to build a bridge between `1` and `2`?\n",
    "\n",
    "## Example\n",
    "\n",
    "Suppose you come across the following, smaller, chamber.\n",
    "\n",
    "```\n",
    "2  ·  ·  ·  ·\n",
    "\n",
    "o  o  o  ·  ·\n",
    "\n",
    "·  o  ·  ·  ·\n",
    "\n",
    "·  ·  ·  o  o\n",
    "\n",
    "1  o  o  o  o\n",
    "```\n",
    "\n",
    "The shortest route from `1` to `2` would look like this\n",
    "\n",
    "```\n",
    "2 - · - · - ·   ·\n",
    "            |\n",
    "o   o   o   ·   ·\n",
    "            |\n",
    "·   o   · - ·   ·\n",
    "        |\n",
    "· - · - ·   o   o\n",
    "|\n",
    "1   o   o   o   o\n",
    "```\n",
    "which is 10 beams long, meaning your answer would be *10!*\n",
    "\n",
    "### Part 2\n",
    "\n",
    "After hitting the bridge builder a few times with a bit of percussive maintenance it offers a new option and lets you use a new feature. \"Diagonals\". Very cool.\n",
    "What if you could do *diagonals* as well; how short is the shortest route from entrance to exit?"
   ],
   "metadata": {
    "collapsed": false
   }
  },
  {
   "cell_type": "code",
   "execution_count": null,
   "outputs": [],
   "source": [],
   "metadata": {
    "collapsed": false
   }
  }
 ],
 "metadata": {
  "kernelspec": {
   "display_name": "Python 3",
   "language": "python",
   "name": "python3"
  },
  "language_info": {
   "codemirror_mode": {
    "name": "ipython",
    "version": 2
   },
   "file_extension": ".py",
   "mimetype": "text/x-python",
   "name": "python",
   "nbconvert_exporter": "python",
   "pygments_lexer": "ipython2",
   "version": "2.7.6"
  }
 },
 "nbformat": 4,
 "nbformat_minor": 0
}
