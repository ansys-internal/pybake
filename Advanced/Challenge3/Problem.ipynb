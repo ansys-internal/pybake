{
 "cells": [
  {
   "cell_type": "markdown",
   "source": [
    "# Tic Tac Toe\n",
    "\n",
    "You've been playing Tic Tac Toe against the computer via text files. Unfortunately your graphical user interface application has broken, and you will need to input your next move manually.\n",
    "\n",
    "In `example.txt` the board looks like this, and you're playing `X`s!\n",
    "\n",
    "```\n",
    " X |   |\n",
    " ---------\n",
    " X | X | O\n",
    " ---------\n",
    " O | O |\n",
    "```\n",
    "\n",
    "You just need to add an `X` to the bottom right to win.\n",
    "\n",
    "## Part 1\n",
    "\n",
    "Write a python script that uses the board in `input.txt` and can identify the spot for the winning move `(2,2)`.\n"
   ],
   "metadata": {
    "collapsed": false
   }
  },
  {
   "cell_type": "code",
   "execution_count": null,
   "outputs": [],
   "source": [],
   "metadata": {
    "collapsed": false
   }
  },
  {
   "cell_type": "markdown",
   "source": [
    "## Part 2\n",
    "\n",
    "Adapt your python script to identify all possible winning moves for *any* input. See `part2_inputs.txt` for some boards. How many winning moves are possible for crosses for each board? What about circles?\n"
   ],
   "metadata": {
    "collapsed": false
   }
  },
  {
   "cell_type": "code",
   "execution_count": null,
   "outputs": [],
   "source": [],
   "metadata": {
    "collapsed": false
   }
  }
 ],
 "metadata": {
  "kernelspec": {
   "display_name": "Python 3",
   "language": "python",
   "name": "python3"
  },
  "language_info": {
   "codemirror_mode": {
    "name": "ipython",
    "version": 2
   },
   "file_extension": ".py",
   "mimetype": "text/x-python",
   "name": "python",
   "nbconvert_exporter": "python",
   "pygments_lexer": "ipython2",
   "version": "2.7.6"
  }
 },
 "nbformat": 4,
 "nbformat_minor": 0
}
