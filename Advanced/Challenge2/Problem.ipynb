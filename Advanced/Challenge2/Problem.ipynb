{
 "cells": [
  {
   "cell_type": "markdown",
   "source": [
    "# Rock Paper Scissors\n",
    "\n",
    "# Part 1\n",
    "\n",
    "Two teachers you know have challenged each other to a children's card game to decide who gets to go on the field trip to Canada. One of them is your homeroom teacher and they ask you to use your \"sick programming skills\" (their words) to work out if their deck is good enough to win.\n",
    "\n",
    "## How to Play\n",
    "\n",
    "The game they're going to play is a simple knock-off of another well-known game. It's a lot simpler though.\n",
    "\n",
    "In the card game each card can have 3 types: Rock, Paper, and Scissors.\n",
    "\n",
    "(it's just rock/paper/scissors but with cards).\n",
    "\n",
    "* Scissors beats Paper\n",
    "* Paper beats Rock\n",
    "* Rock beats Paper\n",
    "\n",
    "Decks can have a max of 6 cards. You must have 1 sets of all 3 + 3 additional cards of your choice. Your teacher's chosen cards are Rock - Scissors - Rock. Their full deck has these cards.\n",
    "\n",
    "1. Rock\n",
    "2. Paper\n",
    "3. Scissors\n",
    "4. Rock\n",
    "5. Scissors\n",
    "6. Rock\n",
    "\n",
    "You don't know what the opponent teacher's deck will look like, but there are only so many possibilities. Your teacher has heard on the grapevine that they have a preference for Scissors and their chosen cards are Scissors - Rock - Scissors.\n",
    "\n",
    "The game is played as follows:\n",
    "\n",
    "1. Both players shuffle their decks\n",
    "2. Both players play the top card of their deck simultaneously\n",
    "    * A Duel begins!\n",
    "    * Rock/Paper/Scissors decides the outcome\n",
    "    * If it is a draw then both cards \"lose\"\n",
    "    * Winning a duel is worth 1 point\n",
    "3. Both players play the next card from the top of their deck and so on...\n",
    "4. The game ends when the players' decks runs out\n",
    "5. The winner is whoever won the most duels\n",
    "6. Notes:\n",
    "    * If a game has *all* draws for every duel, then both players shuffle their decks and go again.\n",
    "    * This counts as a loss for both.\n",
    "\n",
    "If your teacher's opponent's extra card is Scissors, and your teacher's deck is in the same order as the list above (with the top card being \\#1 and the bottom being \\#7) as they think, then out of all the possible decks the opponent could have, how many times will your teacher win?\n",
    "\n",
    "Include all the possible permutations in your answer as well!\n"
   ],
   "metadata": {
    "collapsed": false
   }
  },
  {
   "cell_type": "code",
   "execution_count": null,
   "outputs": [],
   "source": [],
   "metadata": {
    "collapsed": false
   }
  },
  {
   "cell_type": "markdown",
   "source": [
    "# Part 2\n",
    "\n",
    "Your teacher *will* have to shuffle their deck as well. So how many times will your teacher win when comparing every possible permutation of their deck to their opponents?\n",
    "\n",
    "Include the total possible permutations in your answer!\n",
    "\n"
   ],
   "metadata": {
    "collapsed": false
   }
  },
  {
   "cell_type": "code",
   "execution_count": null,
   "outputs": [],
   "source": [],
   "metadata": {
    "collapsed": false
   }
  }
 ],
 "metadata": {
  "kernelspec": {
   "display_name": "Python 3",
   "language": "python",
   "name": "python3"
  },
  "language_info": {
   "codemirror_mode": {
    "name": "ipython",
    "version": 2
   },
   "file_extension": ".py",
   "mimetype": "text/x-python",
   "name": "python",
   "nbconvert_exporter": "python",
   "pygments_lexer": "ipython2",
   "version": "2.7.6"
  }
 },
 "nbformat": 4,
 "nbformat_minor": 0
}
