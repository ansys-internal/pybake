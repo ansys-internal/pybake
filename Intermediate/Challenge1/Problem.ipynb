{
 "cells": [
  {
   "cell_type": "markdown",
   "source": [
    "# Tournament Arc\n",
    "\n",
    "\n",
    "## Part 1\n",
    "\n",
    "Rock Paper Scissors... the greatest game ever devised... Or so says your friend who loves RPS more than his own mother. He's challenged you to a duel but the rules are a bit different to what you're used to.\n",
    "\n",
    "* You're going to play 50 times\n",
    "* Whoever wins the most games is the winner\n",
    "\n",
    "Your friend says he'll give you a handicap and tells you what he's going to play in advance (see file `hands.txt`).\n",
    "\n",
    "BUT he says you're only allowed to play one hand yourself. So, all rock, all paper or all scissors.\n",
    "\n",
    "Which of the three possible hands would give you the most wins and how many would that be?"
   ],
   "metadata": {
    "collapsed": false
   }
  },
  {
   "cell_type": "code",
   "execution_count": null,
   "outputs": [],
   "source": [],
   "metadata": {
    "collapsed": false
   }
  },
  {
   "cell_type": "markdown",
   "source": [
    "## Part 2\n",
    "\n",
    "Just before you start your friend mentions that that list is just the total list of everything he's going to play. it is not the order he's going to play the hands in!\n",
    "\n",
    "Look at every possible order he could play. Which hand is the best option?\n",
    "\n",
    "You may find it useful to check out [`itertools.permutations`](https://docs.python.org/3/library/itertools.html#itertools.permutations)"
   ],
   "metadata": {
    "collapsed": false
   }
  },
  {
   "cell_type": "code",
   "execution_count": null,
   "outputs": [],
   "source": [],
   "metadata": {
    "collapsed": false
   }
  }
 ],
 "metadata": {
  "kernelspec": {
   "display_name": "Python 3",
   "language": "python",
   "name": "python3"
  },
  "language_info": {
   "codemirror_mode": {
    "name": "ipython",
    "version": 2
   },
   "file_extension": ".py",
   "mimetype": "text/x-python",
   "name": "python",
   "nbconvert_exporter": "python",
   "pygments_lexer": "ipython2",
   "version": "2.7.6"
  }
 },
 "nbformat": 4,
 "nbformat_minor": 0
}
