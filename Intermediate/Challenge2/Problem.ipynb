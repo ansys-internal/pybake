{
 "cells": [
  {
   "cell_type": "markdown",
   "source": [
    "# Cloakroom Chaos\n",
    "\n",
    "## Part 1\n",
    "\n",
    "You're helping out with your friend's party, and you've agreed to help out with the cloakroom! Only he lives in a big house with 7 quite small cloakrooms, which is all you have to work with. They can hold 23, 13, 31, 37, 31, 43, and 17 respectively. You decide to fill up each cloakroom in turn as people come in with their coats. The cloakrooms are all named after National Parks in Utah (taken from [utah.com](https://www.utah.com/destinations/national-parks/):\n",
    "\n",
    "1. Arches - 23\n",
    "2. Bryce Canyon - 13\n",
    "3. Canyonlands - 31\n",
    "4. Capitol Reef - 37\n",
    "5. Grand Canyon - 31\n",
    "6. Great Basin - 43\n",
    "7. Mesa Verde - 17\n",
    "\n",
    "You decide to fill up the cloakrooms in this order. The guests arrive (according to the `guest_list.txt` file) and you put their cloaks away. Some hours later, people start to leave. The following five approach you.\n",
    "\n",
    "* Erwin Murray\n",
    "* Jim Miller\n",
    "* Christine York\n",
    "* Dorothy Araujo\n",
    "* Ruth Battle\n",
    "\n",
    "Which cloakrooms are their cloaks in?\n",
    "\n",
    "You might like to try out using [dataclasses](https://realpython.com/python-data-classes/) to tackle this problem.\n",
    "\n",
    "Names were generated using this package: [names](https://pypi.org/project/names/).\n",
    "\n"
   ],
   "metadata": {
    "collapsed": false
   }
  },
  {
   "cell_type": "code",
   "execution_count": null,
   "outputs": [],
   "source": [],
   "metadata": {
    "collapsed": false
   }
  },
  {
   "cell_type": "markdown",
   "source": [
    "## Part 2\n",
    "\n",
    "\n",
    "Unfortunately these 5 guests report to you that their coats aren't the right ones! It turns out that quite a few guests didn't have coats at all but the system counted them as if they did. Looking at the guest list you realise a pattern. Somehow, after the first 7 guests have arrived, the 5th guest after that didn't have a coat, and the 5th guest after THAT and so on. With this in mind you go back to your system and find the correct cloaks for the 5 guests, which rooms are they in? Did all 5 guests even come with coats?\n",
    "\n",
    "\n",
    "For example, if the following guests arrived in this order, the first 7 have coats\n",
    "\n",
    "```\n",
    "Roman Thompson - coat\n",
    "Otis Sahota - coat\n",
    "Marcie Case - coat\n",
    "Angela Floyd - coat\n",
    "Erwin Murray - coat\n",
    "Richard Murphy - coat\n",
    "Harold Snell - coat\n",
    "-----------\n",
    "\n",
    "Now, the 5th guest of each group of 5 is coat-less!\n",
    "\n",
    "Lillian Fox - coat\n",
    "Marjorie Dunn - coat\n",
    "Amy Lamoureux - coat\n",
    "Burt Klein - coat\n",
    "Daniel Thomas - NO COAT\n",
    "-----------\n",
    "Melvin Gomez - coat\n",
    "Frederick Gordon - coat\n",
    "Karen Sawyer - coat\n",
    "Julia Kennedy - coat\n",
    "Joyce Watkins - NO COAT\n",
    "-----------\n",
    "etc.\n",
    "```"
   ],
   "metadata": {
    "collapsed": false
   }
  },
  {
   "cell_type": "code",
   "execution_count": null,
   "outputs": [],
   "source": [],
   "metadata": {
    "collapsed": false
   }
  }
 ],
 "metadata": {
  "kernelspec": {
   "display_name": "Python 3",
   "language": "python",
   "name": "python3"
  },
  "language_info": {
   "codemirror_mode": {
    "name": "ipython",
    "version": 2
   },
   "file_extension": ".py",
   "mimetype": "text/x-python",
   "name": "python",
   "nbconvert_exporter": "python",
   "pygments_lexer": "ipython2",
   "version": "2.7.6"
  }
 },
 "nbformat": 4,
 "nbformat_minor": 0
}
