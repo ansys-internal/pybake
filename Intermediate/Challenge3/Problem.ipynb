{
 "cells": [
  {
   "cell_type": "markdown",
   "source": [
    "# Decoding Messages\n",
    "\n",
    "You have been learning programming with a friend, and he's just sent you a strange message (`input.txt`)\n",
    "\n",
    "He tells you it can be decoded by printing a character `*` at each position denoted by the numbers. This line wraps around to the next line after the 105th character. Why can't he just be normal?\n",
    "\n",
    "For example if we consider the following message, which wraps around after the 12th character:\n",
    "\n",
    "```\n",
    "1 6 10 13 17 19 22 25 29 31 34 37 38 39 42 46 47 48\n",
    "```\n",
    "\n",
    "It would mean that we print a `*` the first character\n",
    "\n",
    "```\n",
    "*\n",
    "```\n",
    "\n",
    "Then we print spaces (or `.` in this case) until we reach the next `*`, which will be the *6*th character\n",
    "\n",
    "```\n",
    "*....*\n",
    "```\n",
    "Then we do the same for the next: the 10th character.\n",
    "\n",
    "```\n",
    "*....*...*\n",
    "```\n",
    "The next character is 13, but we wrap around after the 12th character, so it looks like this:\n",
    "\n",
    "```\n",
    "*....*...*..\n",
    "*\n",
    "```\n",
    "If we keep going to the end of the second line it looks like this\n",
    "\n",
    "```\n",
    "*....*...*..\n",
    "*...*.*..*..\n",
    "```\n",
    "\n",
    "If we keep going to the end of the message we get this pattern\n",
    "\n",
    "```\n",
    "*....*...*..\n",
    "*...*.*..*..\n",
    "*...*.*..*..\n",
    "***..*...***\n",
    "```\n",
    "\n",
    "har har.\n",
    "\n",
    "\n",
    "## Part 1\n",
    "\n",
    "What does your friend's message say?\n"
   ],
   "metadata": {
    "collapsed": false
   }
  },
  {
   "cell_type": "code",
   "execution_count": null,
   "outputs": [],
   "source": [],
   "metadata": {
    "collapsed": false
   }
  },
  {
   "cell_type": "markdown",
   "source": [
    "## Part 2\n",
    "\n",
    "Your friend tells you it's from youtube. What's the video it plays?"
   ],
   "metadata": {
    "collapsed": false
   }
  },
  {
   "cell_type": "code",
   "execution_count": null,
   "outputs": [],
   "source": [],
   "metadata": {
    "collapsed": false
   }
  }
 ],
 "metadata": {
  "kernelspec": {
   "display_name": "Python 3",
   "language": "python",
   "name": "python3"
  },
  "language_info": {
   "codemirror_mode": {
    "name": "ipython",
    "version": 2
   },
   "file_extension": ".py",
   "mimetype": "text/x-python",
   "name": "python",
   "nbconvert_exporter": "python",
   "pygments_lexer": "ipython2",
   "version": "2.7.6"
  }
 },
 "nbformat": 4,
 "nbformat_minor": 0
}
