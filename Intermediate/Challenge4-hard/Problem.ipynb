{
 "cells": [
  {
   "cell_type": "markdown",
   "source": [
    "# Final Challenge\n",
    "\n",
    "We're going to a do a little simulation, as a treat. Don't worry, it won't be very hard!\n",
    "\n",
    "in simulation, we do iterations. We take a system at a snapshot in time and call it time 0 ($t_0$). Then we increment the changes to the system every second (or whatever jump in time we choose $\\Delta t$). We take the result of the system after $\\Delta t$ has been applied, and then we plug THAT back into our formulas to find out what the system looks like after $2 \\Delta t$... and so on for as long as we like.\n",
    "\n",
    "So let's take a simple situation: throwing a ball into the air.\n",
    "\n",
    "The ball has the following properties that will change:\n",
    "\n",
    "- velocity - $v$ (speed it is going)\n",
    "- position - $x$ (where it is)\n",
    "\n",
    "It has the following _fixed_ property, which you DON'T need to worry about.\n",
    "\n",
    "- Acceleration\n",
    "\n",
    "In a fixed time period the position, traveled by the ball, is calculated by the formula:\n",
    "\n",
    "$$\n",
    "\\Delta x = v \\times \\Delta t\n",
    "$$\n",
    "\n",
    "So the new position is\n",
    "\n",
    "$$\n",
    "x_{new} = x_0 + v \\times \\Delta t\n",
    "$$\n",
    "\n",
    "where $x_0$ represents the starting position and similarly $v_0$ will represent the starting velocity. We can also calculate the new velocity after this time period with another simple formula involving the acceleration ($a$).\n",
    "\n",
    "$$\n",
    "v_{new} = v_0 + a \\times \\Delta t\n",
    "$$\n",
    "\n",
    "## Part 1\n",
    "\n",
    "Given these formula write a function that takes an initial velocity $v_0$ and calculates the final velocity and position after 10 seconds, in steps of 1s. Your initial conditions are:\n",
    "\n",
    "- $x_0 = 0$\n",
    "- $t_0 = 0$\n",
    "- $a = -10$\n",
    "\n",
    "Examples for the first 3 steps are below!\n",
    "\n",
    "- $v_0 = 13$\n",
    "- $\\Delta t = 1$\n",
    "\n",
    "#### Step 1\n",
    "\n",
    "$$v = 13, x = 0, t = 0$$\n",
    "\n",
    "$$x_{new} = x + v \\times \\Delta t$$\n",
    "$$x_{new} = 0 + 13 \\times 1$$\n",
    "$$x_{new} = 13$$\n",
    "\n",
    "and the new velocity\n",
    "\n",
    "$$v_{new} = v + a \\times \\Delta t$$\n",
    "$$v_{new} = 13 + (-10) \\times 1$$\n",
    "$$v_{new} = 3$$\n",
    "\n",
    "$$v_{new} = 3, x_{new} = 13, t_{new} = 1$$\n",
    "\n",
    "#### Step 2\n",
    "\n",
    "$$v = 3, x = 13, t = 1$$\n",
    "\n",
    "$$x_{new} = x + v \\times \\Delta t$$\n",
    "$$x_{new} = 13 + 3 \\times 1$$\n",
    "$$x_{new} = 16$$\n",
    "\n",
    "and the new velocity\n",
    "\n",
    "$$v_{new} = v_0 + a \\times \\Delta t$$\n",
    "$$v_{new} = 3 + (-10) \\times 1$$\n",
    "$$v_{new} = -7$$\n",
    "\n",
    "$$v_{new} = -7, x_{new} = 16, t_{new} = 2$$\n",
    "\n",
    "#### Step 3\n",
    "\n",
    "$$v = -7, x = 16, t = 2$$\n",
    "\n",
    "$$x_{new} = x + v \\times \\Delta t$$\n",
    "$$x_{new} = 16 + (-7) \\times 1$$\n",
    "$$x_{new} = 9$$\n",
    "\n",
    "and the new velocity\n",
    "\n",
    "$$v_{new} = v_0 + a \\times \\Delta t$$\n",
    "$$v_{new} = -7 + (-10) \\times 1$$\n",
    "$$v_{new} = -17$$\n",
    "\n",
    "$$v_{new} = -17, x_{new} = 9, t_{new} = 3$$\n"
   ],
   "metadata": {
    "collapsed": false
   }
  },
  {
   "cell_type": "code",
   "execution_count": null,
   "outputs": [],
   "source": [],
   "metadata": {
    "collapsed": false
   }
  },
  {
   "cell_type": "markdown",
   "source": [
    "## Part 2\n",
    "\n",
    "What if we reduce the time step to 0.1 seconds, but still go to a final time of 10 s. What if the time step is 0.01 seconds.\n",
    "\n",
    "What are the differences between the final positions for the 3 different time steps?"
   ],
   "metadata": {
    "collapsed": false
   }
  },
  {
   "cell_type": "code",
   "execution_count": null,
   "outputs": [],
   "source": [],
   "metadata": {
    "collapsed": false
   }
  }
 ],
 "metadata": {
  "kernelspec": {
   "display_name": "Python 3",
   "language": "python",
   "name": "python3"
  },
  "language_info": {
   "codemirror_mode": {
    "name": "ipython",
    "version": 2
   },
   "file_extension": ".py",
   "mimetype": "text/x-python",
   "name": "python",
   "nbconvert_exporter": "python",
   "pygments_lexer": "ipython2",
   "version": "2.7.6"
  }
 },
 "nbformat": 4,
 "nbformat_minor": 0
}
